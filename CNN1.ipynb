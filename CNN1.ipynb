{
 "cells": [
  {
   "cell_type": "code",
   "execution_count": 1,
   "metadata": {},
   "outputs": [
    {
     "name": "stderr",
     "output_type": "stream",
     "text": [
      "c:\\ProgramData\\Anaconda3\\lib\\site-packages\\h5py\\__init__.py:72: UserWarning: h5py is running against HDF5 1.10.2 when it was built against 1.10.3, this may cause problems\n",
      "  '{0}.{1}.{2}'.format(*version.hdf5_built_version_tuple)\n"
     ]
    },
    {
     "data": {
      "text/plain": [
       "'1.14.0'"
      ]
     },
     "execution_count": 1,
     "metadata": {},
     "output_type": "execute_result"
    }
   ],
   "source": [
    "import tensorflow as tf\n",
    "from tensorflow.keras import Sequential\n",
    "from tensorflow.keras.layers import Flatten,Conv2D,Dense\n",
    "import numpy as np\n",
    "import skimage.io as skimio\n",
    "import skimage\n",
    "import matplotlib\n",
    "tf.__version__"
   ]
  },
  {
   "cell_type": "code",
   "execution_count": 2,
   "metadata": {},
   "outputs": [
    {
     "data": {
      "text/plain": [
       "True"
      ]
     },
     "execution_count": 2,
     "metadata": {},
     "output_type": "execute_result"
    }
   ],
   "source": [
    "#tf.test.is_gpu_available()"
   ]
  },
  {
   "cell_type": "code",
   "execution_count": 2,
   "metadata": {},
   "outputs": [],
   "source": [
    "#read all images\n",
    "dataset = skimio.imread_collection(\"../LPR/CarData/*.jpg\")\n",
    "\n",
    "#make ndarray\n",
    "dataset = skimio.collection.concatenate_images(dataset)\n",
    "\n",
    "#change dtype to float32\n",
    "dataset = np.float32(dataset)"
   ]
  },
  {
   "cell_type": "code",
   "execution_count": 3,
   "metadata": {},
   "outputs": [
    {
     "name": "stdout",
     "output_type": "stream",
     "text": [
      "float32 (126, 592, 896, 3)\n"
     ]
    }
   ],
   "source": [
    "print(dataset.dtype, dataset.shape)"
   ]
  },
  {
   "cell_type": "code",
   "execution_count": 4,
   "metadata": {},
   "outputs": [],
   "source": [
    "#Grayscale\n",
    "dataset = skimage.color.rgb2gray(dataset)\n"
   ]
  },
  {
   "cell_type": "code",
   "execution_count": 5,
   "metadata": {},
   "outputs": [
    {
     "data": {
      "text/plain": [
       "(126, 592, 896)"
      ]
     },
     "execution_count": 5,
     "metadata": {},
     "output_type": "execute_result"
    }
   ],
   "source": [
    "dataset.shape"
   ]
  },
  {
   "cell_type": "code",
   "execution_count": 6,
   "metadata": {},
   "outputs": [],
   "source": [
    "dataset = skimage.filters.gaussian(dataset,sigma=1)"
   ]
  },
  {
   "cell_type": "code",
   "execution_count": 9,
   "metadata": {},
   "outputs": [
    {
     "name": "stdout",
     "output_type": "stream",
     "text": [
      "Using matplotlib backend: Qt5Agg\n"
     ]
    },
    {
     "data": {
      "text/plain": [
       "<matplotlib.image.AxesImage at 0x17683f8a1d0>"
      ]
     },
     "execution_count": 9,
     "metadata": {},
     "output_type": "execute_result"
    }
   ],
   "source": [
    "#%matplotlib\n",
    "#skimio.imshow(dataset[6],cmap='gray')"
   ]
  },
  {
   "cell_type": "code",
   "execution_count": null,
   "metadata": {
    "scrolled": true
   },
   "outputs": [],
   "source": [
    "#dataset"
   ]
  },
  {
   "cell_type": "code",
   "execution_count": 7,
   "metadata": {},
   "outputs": [],
   "source": [
    "dataset= skimage.filters.laplace(dataset)"
   ]
  },
  {
   "cell_type": "code",
   "execution_count": 11,
   "metadata": {},
   "outputs": [
    {
     "name": "stdout",
     "output_type": "stream",
     "text": [
      "Using matplotlib backend: Qt5Agg\n"
     ]
    },
    {
     "data": {
      "text/plain": [
       "<matplotlib.image.AxesImage at 0x17684036438>"
      ]
     },
     "execution_count": 11,
     "metadata": {},
     "output_type": "execute_result"
    }
   ],
   "source": [
    "#%matplotlib\n",
    "#skimio.imshow(dataset[5],cmap='gray')"
   ]
  },
  {
   "cell_type": "code",
   "execution_count": 8,
   "metadata": {},
   "outputs": [],
   "source": [
    "dataset = tf.convert_to_tensor(dataset,dtype=tf.float32)"
   ]
  },
  {
   "cell_type": "code",
   "execution_count": 9,
   "metadata": {},
   "outputs": [
    {
     "data": {
      "text/plain": [
       "TensorShape([Dimension(126), Dimension(592), Dimension(896)])"
      ]
     },
     "execution_count": 9,
     "metadata": {},
     "output_type": "execute_result"
    }
   ],
   "source": [
    "dataset.shape"
   ]
  },
  {
   "cell_type": "code",
   "execution_count": 10,
   "metadata": {},
   "outputs": [],
   "source": [
    "y = tf.ones(dataset.shape[0],1)"
   ]
  },
  {
   "cell_type": "code",
   "execution_count": 11,
   "metadata": {},
   "outputs": [
    {
     "data": {
      "text/plain": [
       "TensorShape([Dimension(126)])"
      ]
     },
     "execution_count": 11,
     "metadata": {},
     "output_type": "execute_result"
    }
   ],
   "source": [
    "y.shape"
   ]
  },
  {
   "cell_type": "code",
   "execution_count": 12,
   "metadata": {},
   "outputs": [
    {
     "name": "stderr",
     "output_type": "stream",
     "text": [
      "WARNING: Logging before flag parsing goes to stderr.\n",
      "W1022 10:06:07.122934 17400 deprecation.py:506] From c:\\ProgramData\\Anaconda3\\lib\\site-packages\\tensorflow\\python\\ops\\init_ops.py:1251: calling VarianceScaling.__init__ (from tensorflow.python.ops.init_ops) with dtype is deprecated and will be removed in a future version.\n",
      "Instructions for updating:\n",
      "Call initializer instance with the dtype argument instead of passing it to the constructor\n"
     ]
    }
   ],
   "source": [
    "model=Sequential()\n",
    "\n",
    "model.add(Flatten())\n",
    "model.add(Dense(128,activation='relu'))\n",
    "model.add(Dense(2,activation=\"sigmoid\"))\n",
    "\n",
    "model.compile(optimizer='Adam', loss='binary_crossentropy')"
   ]
  },
  {
   "cell_type": "code",
   "execution_count": 13,
   "metadata": {},
   "outputs": [],
   "source": [
    "model.build(input_shape= dataset.shape)"
   ]
  },
  {
   "cell_type": "code",
   "execution_count": 15,
   "metadata": {
    "scrolled": true
   },
   "outputs": [
    {
     "name": "stdout",
     "output_type": "stream",
     "text": [
      "Epoch 1/64\n",
      "1/1 [==============================] - 57s 57s/step - loss: 0.0103\n",
      "Epoch 2/64\n",
      "1/1 [==============================] - 0s 128ms/step - loss: 0.0103\n",
      "Epoch 3/64\n",
      "1/1 [==============================] - 0s 128ms/step - loss: 0.0103\n",
      "Epoch 4/64\n",
      "1/1 [==============================] - 0s 140ms/step - loss: 0.0103\n",
      "Epoch 5/64\n",
      "1/1 [==============================] - 0s 192ms/step - loss: 0.0103\n",
      "Epoch 6/64\n",
      "1/1 [==============================] - 0s 192ms/step - loss: 0.0103\n",
      "Epoch 7/64\n",
      "1/1 [==============================] - 0s 176ms/step - loss: 0.0103\n",
      "Epoch 8/64\n",
      "1/1 [==============================] - 0s 188ms/step - loss: 0.0103\n",
      "Epoch 9/64\n",
      "1/1 [==============================] - 0s 192ms/step - loss: 0.0103\n",
      "Epoch 10/64\n",
      "1/1 [==============================] - 0s 196ms/step - loss: 0.0103\n",
      "Epoch 11/64\n",
      "1/1 [==============================] - 0s 192ms/step - loss: 0.0103\n",
      "Epoch 12/64\n",
      "1/1 [==============================] - 0s 172ms/step - loss: 0.0103\n",
      "Epoch 13/64\n",
      "1/1 [==============================] - 0s 192ms/step - loss: 0.0102\n",
      "Epoch 14/64\n",
      "1/1 [==============================] - 0s 192ms/step - loss: 0.0102\n",
      "Epoch 15/64\n",
      "1/1 [==============================] - 0s 172ms/step - loss: 0.0102\n",
      "Epoch 16/64\n",
      "1/1 [==============================] - 0s 208ms/step - loss: 0.0102\n",
      "Epoch 17/64\n",
      "1/1 [==============================] - 0s 152ms/step - loss: 0.0102\n",
      "Epoch 18/64\n",
      "1/1 [==============================] - 0s 192ms/step - loss: 0.0102\n",
      "Epoch 19/64\n",
      "1/1 [==============================] - 0s 196ms/step - loss: 0.0102\n",
      "Epoch 20/64\n",
      "1/1 [==============================] - 0s 176ms/step - loss: 0.0102\n",
      "Epoch 21/64\n",
      "1/1 [==============================] - 0s 196ms/step - loss: 0.0102\n",
      "Epoch 22/64\n",
      "1/1 [==============================] - 0s 192ms/step - loss: 0.0102\n",
      "Epoch 23/64\n",
      "1/1 [==============================] - 0s 200ms/step - loss: 0.0102\n",
      "Epoch 24/64\n",
      "1/1 [==============================] - 0s 192ms/step - loss: 0.0102\n",
      "Epoch 25/64\n",
      "1/1 [==============================] - 0s 192ms/step - loss: 0.0102\n",
      "Epoch 26/64\n",
      "1/1 [==============================] - 0s 192ms/step - loss: 0.0101\n",
      "Epoch 27/64\n",
      "1/1 [==============================] - 0s 192ms/step - loss: 0.0101\n",
      "Epoch 28/64\n",
      "1/1 [==============================] - 0s 192ms/step - loss: 0.0101\n",
      "Epoch 29/64\n",
      "1/1 [==============================] - 0s 192ms/step - loss: 0.0101\n",
      "Epoch 30/64\n",
      "1/1 [==============================] - 0s 176ms/step - loss: 0.0101\n",
      "Epoch 31/64\n",
      "1/1 [==============================] - 0s 192ms/step - loss: 0.0101\n",
      "Epoch 32/64\n",
      "1/1 [==============================] - 0s 188ms/step - loss: 0.0101\n",
      "Epoch 33/64\n",
      "1/1 [==============================] - 0s 196ms/step - loss: 0.0101\n",
      "Epoch 34/64\n",
      "1/1 [==============================] - 0s 192ms/step - loss: 0.0101\n",
      "Epoch 35/64\n",
      "1/1 [==============================] - 0s 176ms/step - loss: 0.0101\n",
      "Epoch 36/64\n",
      "1/1 [==============================] - 0s 192ms/step - loss: 0.0101\n",
      "Epoch 37/64\n",
      "1/1 [==============================] - 0s 192ms/step - loss: 0.0101\n",
      "Epoch 38/64\n",
      "1/1 [==============================] - 0s 196ms/step - loss: 0.0101\n",
      "Epoch 39/64\n",
      "1/1 [==============================] - 0s 172ms/step - loss: 0.0100\n",
      "Epoch 40/64\n",
      "1/1 [==============================] - 0s 192ms/step - loss: 0.0100\n",
      "Epoch 41/64\n",
      "1/1 [==============================] - 0s 192ms/step - loss: 0.0100\n",
      "Epoch 42/64\n",
      "1/1 [==============================] - 0s 172ms/step - loss: 0.0100\n",
      "Epoch 43/64\n",
      "1/1 [==============================] - 0s 196ms/step - loss: 0.0100\n",
      "Epoch 44/64\n",
      "1/1 [==============================] - 0s 196ms/step - loss: 0.0100\n",
      "Epoch 45/64\n",
      "1/1 [==============================] - 0s 196ms/step - loss: 0.0100\n",
      "Epoch 46/64\n",
      "1/1 [==============================] - 0s 188ms/step - loss: 0.0100\n",
      "Epoch 47/64\n",
      "1/1 [==============================] - 0s 172ms/step - loss: 0.0100\n",
      "Epoch 48/64\n",
      "1/1 [==============================] - 0s 196ms/step - loss: 0.0100\n",
      "Epoch 49/64\n",
      "1/1 [==============================] - 0s 196ms/step - loss: 0.0100\n",
      "Epoch 50/64\n",
      "1/1 [==============================] - 0s 192ms/step - loss: 0.0100\n",
      "Epoch 51/64\n",
      "1/1 [==============================] - 0s 176ms/step - loss: 0.0099\n",
      "Epoch 52/64\n",
      "1/1 [==============================] - 0s 192ms/step - loss: 0.0099\n",
      "Epoch 53/64\n",
      "1/1 [==============================] - 0s 192ms/step - loss: 0.0099\n",
      "Epoch 54/64\n",
      "1/1 [==============================] - 0s 192ms/step - loss: 0.0099\n",
      "Epoch 55/64\n",
      "1/1 [==============================] - 0s 176ms/step - loss: 0.0099\n",
      "Epoch 56/64\n",
      "1/1 [==============================] - 0s 196ms/step - loss: 0.0099\n",
      "Epoch 57/64\n",
      "1/1 [==============================] - 0s 192ms/step - loss: 0.0099\n",
      "Epoch 58/64\n",
      "1/1 [==============================] - 0s 188ms/step - loss: 0.0099\n",
      "Epoch 59/64\n",
      "1/1 [==============================] - 0s 192ms/step - loss: 0.0099\n",
      "Epoch 60/64\n",
      "1/1 [==============================] - 0s 196ms/step - loss: 0.0099\n",
      "Epoch 61/64\n",
      "1/1 [==============================] - 0s 172ms/step - loss: 0.0099\n",
      "Epoch 62/64\n",
      "1/1 [==============================] - 0s 192ms/step - loss: 0.0099\n",
      "Epoch 63/64\n",
      "1/1 [==============================] - 0s 192ms/step - loss: 0.0098\n",
      "Epoch 64/64\n",
      "1/1 [==============================] - 0s 188ms/step - loss: 0.0098\n"
     ]
    },
    {
     "data": {
      "text/plain": [
       "<tensorflow.python.keras.callbacks.History at 0x2b9000bf080>"
      ]
     },
     "execution_count": 15,
     "metadata": {},
     "output_type": "execute_result"
    }
   ],
   "source": [
    "model.fit(dataset,y,epochs=64,steps_per_epoch=1)"
   ]
  },
  {
   "cell_type": "code",
   "execution_count": 16,
   "metadata": {
    "scrolled": false
   },
   "outputs": [
    {
     "name": "stdout",
     "output_type": "stream",
     "text": [
      "Model: \"sequential\"\n",
      "_________________________________________________________________\n",
      "Layer (type)                 Output Shape              Param #   \n",
      "=================================================================\n",
      "flatten (Flatten)            multiple                  0         \n",
      "_________________________________________________________________\n",
      "dense (Dense)                multiple                  67895424  \n",
      "_________________________________________________________________\n",
      "dense_1 (Dense)              multiple                  258       \n",
      "=================================================================\n",
      "Total params: 67,895,682\n",
      "Trainable params: 67,895,682\n",
      "Non-trainable params: 0\n",
      "_________________________________________________________________\n"
     ]
    }
   ],
   "source": [
    "model.summary()"
   ]
  },
  {
   "cell_type": "code",
   "execution_count": null,
   "metadata": {},
   "outputs": [],
   "source": []
  },
  {
   "cell_type": "code",
   "execution_count": 19,
   "metadata": {},
   "outputs": [],
   "source": [
    "#read all images\n",
    "testdata = skimio.imread_collection(\"../LPR/CarTest/*.jpg\")\n",
    "\n",
    "#make ndarray\n",
    "testdata = skimio.collection.concatenate_images(testdata)\n",
    "\n",
    "#change dtype to float32\n",
    "testdata = np.float32(testdata)\n",
    "\n",
    "#Grayscale\n",
    "testdata = skimage.color.rgb2gray(testdata)\n",
    "\n",
    "testdata = skimage.filters.gaussian(testdata,sigma=1)\n",
    "\n",
    "testdata = skimage.filters.laplace(testdata)"
   ]
  },
  {
   "cell_type": "code",
   "execution_count": 20,
   "metadata": {},
   "outputs": [],
   "source": [
    "testdata = tf.convert_to_tensor(testdata,dtype=tf.float32)"
   ]
  },
  {
   "cell_type": "code",
   "execution_count": 23,
   "metadata": {},
   "outputs": [
    {
     "data": {
      "text/plain": [
       "array([[0.54102206, 0.5356577 ],\n",
       "       [1.        , 1.        ],\n",
       "       [1.        , 1.        ],\n",
       "       ...,\n",
       "       [1.        , 1.        ],\n",
       "       [1.        , 1.        ],\n",
       "       [0.54102206, 0.5356577 ]], dtype=float32)"
      ]
     },
     "execution_count": 23,
     "metadata": {},
     "output_type": "execute_result"
    }
   ],
   "source": [
    "model.predict(testdata,steps=1)"
   ]
  },
  {
   "cell_type": "code",
   "execution_count": 27,
   "metadata": {},
   "outputs": [
    {
     "ename": "InvalidArgumentError",
     "evalue": "2 root error(s) found.\n  (0) Invalid argument: You must feed a value for placeholder tensor 'output_1_target' with dtype float and shape [?,?]\n\t [[{{node output_1_target}}]]\n\t [[loss/mul/_43]]\n  (1) Invalid argument: You must feed a value for placeholder tensor 'output_1_target' with dtype float and shape [?,?]\n\t [[{{node output_1_target}}]]\n0 successful operations.\n0 derived errors ignored.",
     "output_type": "error",
     "traceback": [
      "\u001b[1;31m---------------------------------------------------------------------------\u001b[0m",
      "\u001b[1;31mInvalidArgumentError\u001b[0m                      Traceback (most recent call last)",
      "\u001b[1;32m<ipython-input-27-d2c38010e07d>\u001b[0m in \u001b[0;36m<module>\u001b[1;34m\u001b[0m\n\u001b[1;32m----> 1\u001b[1;33m \u001b[0mz\u001b[0m \u001b[1;33m=\u001b[0m \u001b[0mmodel\u001b[0m\u001b[1;33m.\u001b[0m\u001b[0mevaluate\u001b[0m\u001b[1;33m(\u001b[0m\u001b[0mtestdata\u001b[0m\u001b[1;33m,\u001b[0m\u001b[0msteps\u001b[0m\u001b[1;33m=\u001b[0m\u001b[1;36m526\u001b[0m\u001b[1;33m)\u001b[0m\u001b[1;33m\u001b[0m\u001b[1;33m\u001b[0m\u001b[0m\n\u001b[0m",
      "\u001b[1;32mc:\\ProgramData\\Anaconda3\\lib\\site-packages\\tensorflow\\python\\keras\\engine\\training.py\u001b[0m in \u001b[0;36mevaluate\u001b[1;34m(self, x, y, batch_size, verbose, sample_weight, steps, callbacks, max_queue_size, workers, use_multiprocessing)\u001b[0m\n\u001b[0;32m    958\u001b[0m           \u001b[0mverbose\u001b[0m\u001b[1;33m=\u001b[0m\u001b[0mverbose\u001b[0m\u001b[1;33m,\u001b[0m\u001b[1;33m\u001b[0m\u001b[1;33m\u001b[0m\u001b[0m\n\u001b[0;32m    959\u001b[0m           \u001b[0msteps\u001b[0m\u001b[1;33m=\u001b[0m\u001b[0msteps\u001b[0m\u001b[1;33m,\u001b[0m\u001b[1;33m\u001b[0m\u001b[1;33m\u001b[0m\u001b[0m\n\u001b[1;32m--> 960\u001b[1;33m           callbacks=callbacks)\n\u001b[0m\u001b[0;32m    961\u001b[0m \u001b[1;33m\u001b[0m\u001b[0m\n\u001b[0;32m    962\u001b[0m   def predict(self,\n",
      "\u001b[1;32mc:\\ProgramData\\Anaconda3\\lib\\site-packages\\tensorflow\\python\\keras\\engine\\training_arrays.py\u001b[0m in \u001b[0;36mmodel_iteration\u001b[1;34m(model, inputs, targets, sample_weights, batch_size, epochs, verbose, callbacks, val_inputs, val_targets, val_sample_weights, shuffle, initial_epoch, steps_per_epoch, validation_steps, validation_freq, mode, validation_in_fit, prepared_feed_values_from_dataset, steps_name, **kwargs)\u001b[0m\n\u001b[0;32m    272\u001b[0m           \u001b[1;31m# `ins` can be callable in tf.distribute.Strategy + eager case.\u001b[0m\u001b[1;33m\u001b[0m\u001b[1;33m\u001b[0m\u001b[1;33m\u001b[0m\u001b[0m\n\u001b[0;32m    273\u001b[0m           \u001b[0mactual_inputs\u001b[0m \u001b[1;33m=\u001b[0m \u001b[0mins\u001b[0m\u001b[1;33m(\u001b[0m\u001b[1;33m)\u001b[0m \u001b[1;32mif\u001b[0m \u001b[0mcallable\u001b[0m\u001b[1;33m(\u001b[0m\u001b[0mins\u001b[0m\u001b[1;33m)\u001b[0m \u001b[1;32melse\u001b[0m \u001b[0mins\u001b[0m\u001b[1;33m\u001b[0m\u001b[1;33m\u001b[0m\u001b[0m\n\u001b[1;32m--> 274\u001b[1;33m           \u001b[0mbatch_outs\u001b[0m \u001b[1;33m=\u001b[0m \u001b[0mf\u001b[0m\u001b[1;33m(\u001b[0m\u001b[0mactual_inputs\u001b[0m\u001b[1;33m)\u001b[0m\u001b[1;33m\u001b[0m\u001b[1;33m\u001b[0m\u001b[0m\n\u001b[0m\u001b[0;32m    275\u001b[0m         \u001b[1;32mexcept\u001b[0m \u001b[0merrors\u001b[0m\u001b[1;33m.\u001b[0m\u001b[0mOutOfRangeError\u001b[0m\u001b[1;33m:\u001b[0m\u001b[1;33m\u001b[0m\u001b[1;33m\u001b[0m\u001b[0m\n\u001b[0;32m    276\u001b[0m           \u001b[1;32mif\u001b[0m \u001b[0mis_dataset\u001b[0m\u001b[1;33m:\u001b[0m\u001b[1;33m\u001b[0m\u001b[1;33m\u001b[0m\u001b[0m\n",
      "\u001b[1;32mc:\\ProgramData\\Anaconda3\\lib\\site-packages\\tensorflow\\python\\keras\\backend.py\u001b[0m in \u001b[0;36m__call__\u001b[1;34m(self, inputs)\u001b[0m\n\u001b[0;32m   3290\u001b[0m \u001b[1;33m\u001b[0m\u001b[0m\n\u001b[0;32m   3291\u001b[0m     fetched = self._callable_fn(*array_vals,\n\u001b[1;32m-> 3292\u001b[1;33m                                 run_metadata=self.run_metadata)\n\u001b[0m\u001b[0;32m   3293\u001b[0m     \u001b[0mself\u001b[0m\u001b[1;33m.\u001b[0m\u001b[0m_call_fetch_callbacks\u001b[0m\u001b[1;33m(\u001b[0m\u001b[0mfetched\u001b[0m\u001b[1;33m[\u001b[0m\u001b[1;33m-\u001b[0m\u001b[0mlen\u001b[0m\u001b[1;33m(\u001b[0m\u001b[0mself\u001b[0m\u001b[1;33m.\u001b[0m\u001b[0m_fetches\u001b[0m\u001b[1;33m)\u001b[0m\u001b[1;33m:\u001b[0m\u001b[1;33m]\u001b[0m\u001b[1;33m)\u001b[0m\u001b[1;33m\u001b[0m\u001b[1;33m\u001b[0m\u001b[0m\n\u001b[0;32m   3294\u001b[0m     output_structure = nest.pack_sequence_as(\n",
      "\u001b[1;32mc:\\ProgramData\\Anaconda3\\lib\\site-packages\\tensorflow\\python\\client\\session.py\u001b[0m in \u001b[0;36m__call__\u001b[1;34m(self, *args, **kwargs)\u001b[0m\n\u001b[0;32m   1456\u001b[0m         ret = tf_session.TF_SessionRunCallable(self._session._session,\n\u001b[0;32m   1457\u001b[0m                                                \u001b[0mself\u001b[0m\u001b[1;33m.\u001b[0m\u001b[0m_handle\u001b[0m\u001b[1;33m,\u001b[0m \u001b[0margs\u001b[0m\u001b[1;33m,\u001b[0m\u001b[1;33m\u001b[0m\u001b[1;33m\u001b[0m\u001b[0m\n\u001b[1;32m-> 1458\u001b[1;33m                                                run_metadata_ptr)\n\u001b[0m\u001b[0;32m   1459\u001b[0m         \u001b[1;32mif\u001b[0m \u001b[0mrun_metadata\u001b[0m\u001b[1;33m:\u001b[0m\u001b[1;33m\u001b[0m\u001b[1;33m\u001b[0m\u001b[0m\n\u001b[0;32m   1460\u001b[0m           \u001b[0mproto_data\u001b[0m \u001b[1;33m=\u001b[0m \u001b[0mtf_session\u001b[0m\u001b[1;33m.\u001b[0m\u001b[0mTF_GetBuffer\u001b[0m\u001b[1;33m(\u001b[0m\u001b[0mrun_metadata_ptr\u001b[0m\u001b[1;33m)\u001b[0m\u001b[1;33m\u001b[0m\u001b[1;33m\u001b[0m\u001b[0m\n",
      "\u001b[1;31mInvalidArgumentError\u001b[0m: 2 root error(s) found.\n  (0) Invalid argument: You must feed a value for placeholder tensor 'output_1_target' with dtype float and shape [?,?]\n\t [[{{node output_1_target}}]]\n\t [[loss/mul/_43]]\n  (1) Invalid argument: You must feed a value for placeholder tensor 'output_1_target' with dtype float and shape [?,?]\n\t [[{{node output_1_target}}]]\n0 successful operations.\n0 derived errors ignored."
     ]
    }
   ],
   "source": [
    "z = model.evaluate(testdata,steps=526)"
   ]
  },
  {
   "cell_type": "code",
   "execution_count": null,
   "metadata": {},
   "outputs": [],
   "source": []
  }
 ],
 "metadata": {
  "kernelspec": {
   "display_name": "Python 3",
   "language": "python",
   "name": "python3"
  },
  "language_info": {
   "codemirror_mode": {
    "name": "ipython",
    "version": 3
   },
   "file_extension": ".py",
   "mimetype": "text/x-python",
   "name": "python",
   "nbconvert_exporter": "python",
   "pygments_lexer": "ipython3",
   "version": "3.6.8"
  }
 },
 "nbformat": 4,
 "nbformat_minor": 2
}
